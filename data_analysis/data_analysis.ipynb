{
 "cells": [
  {
   "cell_type": "markdown",
   "metadata": {},
   "source": [
    "# Data Analysis"
   ]
  },
  {
   "cell_type": "markdown",
   "metadata": {},
   "source": [
    "Pieter Leon van den Berg\n",
    "\n",
    "22684166\n",
    "\n",
    "2022\n",
    "\n",
    "Supervisor: Dr Cripwell"
   ]
  }
 ],
 "metadata": {
  "interpreter": {
   "hash": "501cc6e43ac4bf4b593e4371622d211abc9f23225ca3af1f6d03f3a71591c754"
  },
  "kernelspec": {
   "display_name": "Python 3.9.7 ('.venv': venv)",
   "language": "python",
   "name": "python3"
  },
  "language_info": {
   "name": "python",
   "version": "3.9.7"
  },
  "orig_nbformat": 4
 },
 "nbformat": 4,
 "nbformat_minor": 2
}
